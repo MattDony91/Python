{
 "cells": [
  {
   "cell_type": "markdown",
   "metadata": {},
   "source": [
    "# 모든코인 상승장? 하락장?\n",
    "> 최고가와 최저가의 차이를 변동폭으로 정의할 때 (시가 + 변동폭)이 최고가 보다 높을 경우 \"상승장\", 그렇지 않은 경우 \"하락장\" 문자열을 출력하라.\n",
    "\n",
    "\n",
    "|Key Name|Description|\n",
    "|------|---|\n",
    "|opeing_price|최근 24시간 내 시작 거래금액|\n",
    "|closing_price|최근 24시간 내 마지막 거래금액|\n",
    "|min_price|최근 24시간 내 최저 거래금액|\n",
    "|max_price|최근 24시간 내 최고 거래금액|"
   ]
  },
  {
   "cell_type": "code",
   "execution_count": 54,
   "metadata": {},
   "outputs": [
    {
     "name": "stdout",
     "output_type": "stream",
     "text": [
      "BTC\t상승장\n",
      "ETH\t하락장\n",
      "DASH\t상승장\n",
      "LTC\t상승장\n",
      "ETC\t상승장\n",
      "XRP\t상승장\n",
      "BCH\t상승장\n",
      "XMR\t상승장\n",
      "ZEC\t상승장\n",
      "QTUM\t상승장\n",
      "BTG\t상승장\n",
      "EOS\t상승장\n",
      "ICX\t상승장\n",
      "VET\t하락장\n",
      "TRX\t상승장\n",
      "ELF\t상승장\n",
      "MITH\t상승장\n",
      "MCO\t상승장\n",
      "OMG\t상승장\n",
      "KNC\t상승장\n",
      "GNT\t상승장\n",
      "ZIL\t상승장\n",
      "ETHOS\t상승장\n",
      "PAY\t하락장\n",
      "WAX\t상승장\n",
      "POWR\t상승장\n",
      "LRC\t상승장\n",
      "GTO\t상승장\n",
      "STEEM\t상승장\n",
      "STRAT\t상승장\n",
      "ZRX\t상승장\n",
      "REP\t상승장\n",
      "AE\t상승장\n",
      "XEM\t하락장\n",
      "SNT\t상승장\n",
      "ADA\t상승장\n",
      "PPT\t상승장\n",
      "CTXC\t상승장\n",
      "CMT\t상승장\n",
      "THETA\t하락장\n",
      "WTC\t상승장\n",
      "ITC\t상승장\n",
      "TRUE\t상승장\n",
      "ABT\t상승장\n",
      "RNT\t상승장\n",
      "PLY\t상승장\n",
      "WAVES\t상승장\n",
      "LINK\t상승장\n",
      "ENJ\t상승장\n",
      "PST\t하락장\n",
      "SALT\t상승장\n",
      "RDN\t상승장\n",
      "LOOM\t상승장\n",
      "PIVX\t상승장\n",
      "INS\t상승장\n",
      "BCD\t상승장\n",
      "BZNT\t상승장\n",
      "XLM\t상승장\n",
      "OCN\t상승장\n",
      "BSV\t상승장\n",
      "TMTG\t하락장\n",
      "BAT\t상승장\n",
      "WET\t상승장\n",
      "XVG\t상승장\n",
      "IOST\t상승장\n",
      "POLY\t상승장\n",
      "HC\t상승장\n",
      "ROM\t상승장\n",
      "AMO\t상승장\n",
      "ETZ\t상승장\n",
      "ARN\t상승장\n",
      "APIS\t상승장\n",
      "MTL\t상승장\n",
      "DACC\t상승장\n",
      "DAC\t상승장\n",
      "BHP\t상승장\n",
      "BTT\t상승장\n",
      "HDAC\t상승장\n",
      "NPXS\t상승장\n",
      "AUTO\t상승장\n",
      "GXC\t상승장\n",
      "ORBS\t상승장\n",
      "VALOR\t상승장\n",
      "CON\t상승장\n",
      "ANKR\t상승장\n",
      "MIX\t상승장\n",
      "HYC\t상승장\n",
      "LBA\t상승장\n"
     ]
    }
   ],
   "source": [
    "import requests\n",
    "url = \"https://api.bithumb.com/public/ticker/all\"\n",
    "data = requests.get(url).json()['data']\n",
    "\n",
    "for key in data.keys():\n",
    "    if key == 'date':\n",
    "        break\n",
    "    opening_price = float(data[key]['opening_price'])\n",
    "    max_price = float(data[key]['max_price'])\n",
    "    min_price = float(data[key]['min_price'])\n",
    "    variation = max_price - min_price\n",
    "    result = '상승장' if opening_price + variation > max_price else '하락장'\n",
    "    print(f'{key}\\t{result}')"
   ]
  },
  {
   "cell_type": "markdown",
   "metadata": {},
   "source": [
    "# 평균점수\n",
    "> 다음 딕셔너리에서 평균 점수를 출력하라\n"
   ]
  },
  {
   "cell_type": "code",
   "execution_count": 1,
   "metadata": {},
   "outputs": [
    {
     "name": "stdout",
     "output_type": "stream",
     "text": [
      "83.25\n"
     ]
    }
   ],
   "source": [
    "student = {'python':80, 'algorithm':78, 'django':95, 'flask':80}\n",
    "\n",
    "total = 0\n",
    "for val in student.values():\n",
    "    total += val\n",
    "print(total / len(student))"
   ]
  },
  {
   "cell_type": "markdown",
   "metadata": {},
   "source": [
    "# 혈액형\n",
    "> 학생들의 혈액형(A,B,O,AB)에 대한 데이터가 리스트에 들어있다. 각 혈액형이 몇명인지 딕셔너리를 만들어 출력하라"
   ]
  },
  {
   "cell_type": "code",
   "execution_count": 52,
   "metadata": {},
   "outputs": [
    {
     "name": "stdout",
     "output_type": "stream",
     "text": [
      "{'A': 5, 'B': 2, 'AB': 3, 'O': 4}\n"
     ]
    }
   ],
   "source": [
    "blood = ['A','A','B','O','A','B','A','AB','AB','O','A','O','AB','O']\n",
    "blood_list = set(blood)\n",
    "blood_dict = {}\n",
    "for blood_type in blood_list:\n",
    "    blood_dict[blood_type] = blood.count(blood_type)\n",
    "print(blood_dict)"
   ]
  },
  {
   "cell_type": "markdown",
   "metadata": {},
   "source": [
    "# UBD\n",
    "> movies는 영화제목이 key로 누적관객수가 value인 딕셔너리이다. \n",
    ">\n",
    "> 자전차왕 엄복동의 누적관객수는 172212명이고 172212명을 1UBD라고 할때 80UBD를 넘지 못하는 영화를 출력하라."
   ]
  },
  {
   "cell_type": "code",
   "execution_count": 59,
   "metadata": {
    "scrolled": true
   },
   "outputs": [
    {
     "name": "stdout",
     "output_type": "stream",
     "text": [
      "영화명: 7번방의선물\t누적관객수: 12811206 (74.39 UBD)\n",
      "영화명: 괴물\t누적관객수: 13019740 (75.60 UBD)\n",
      "영화명: 도둑들\t누적관객수: 12983330 (75.39 UBD)\n",
      "영화명: 베테랑\t누적관객수: 13414009 (77.89 UBD)\n",
      "영화명: 아바타\t누적관객수: 13624328 (79.11 UBD)\n"
     ]
    }
   ],
   "source": [
    "movies = {\n",
    "    \"7번방의선물\":12811206,\n",
    "    \"괴물\":13019740,\n",
    "    \"국제시장\":14257115,\n",
    "    \"극한직업\":16261018,\n",
    "    \"도둑들\":12983330,\n",
    "    \"명량\":17613682,\n",
    "    \"베테랑\":13414009,\n",
    "    \"신과함께-죄와벌\":14410754,\n",
    "    \"아바타\":13624328,\n",
    "    \"어벤져스:엔드게임\":13901423,\n",
    "}\n",
    "\n",
    "# 오늘 배웠으니 굳이 함수를 써보자!!\n",
    "def change_UBD(attendance):\n",
    "    ubd = 172212\n",
    "    change_unit = attendance / ubd\n",
    "    return change_unit\n",
    "\n",
    "for key,val in movies.items():\n",
    "    if change_UBD(val) < 80:\n",
    "        print(f'영화명: {key}\\t누적관객수: {val} ({change_UBD(val):.2f} UBD)')"
   ]
  }
 ],
 "metadata": {
  "kernelspec": {
   "display_name": "Python 3",
   "language": "python",
   "name": "python3"
  },
  "language_info": {
   "codemirror_mode": {
    "name": "ipython",
    "version": 3
   },
   "file_extension": ".py",
   "mimetype": "text/x-python",
   "name": "python",
   "nbconvert_exporter": "python",
   "pygments_lexer": "ipython3",
   "version": "3.7.3"
  }
 },
 "nbformat": 4,
 "nbformat_minor": 2
}
